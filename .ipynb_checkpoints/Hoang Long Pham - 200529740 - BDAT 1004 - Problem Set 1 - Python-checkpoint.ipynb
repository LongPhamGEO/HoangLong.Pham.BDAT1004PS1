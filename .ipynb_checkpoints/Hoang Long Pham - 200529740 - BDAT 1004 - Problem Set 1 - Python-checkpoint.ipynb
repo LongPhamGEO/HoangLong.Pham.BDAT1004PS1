{
 "cells": [
  {
   "cell_type": "markdown",
   "id": "c9d9ba29",
   "metadata": {},
   "source": [
    "<h4>Question 6</h4><p></p>\n",
    "You can turn a word into pig-Latin using the following two rules (simplified):<p></p>\n",
    "<li>If the word starts with a consonant, move that letter to the end and append 'ay'. For example, 'happy' becomes 'appyhay' and 'pencil' becomes 'encilpay'.</li>\n",
    "<li>If the word starts with a vowel, simply append 'way' to the end of the word. For example, 'enter' becomes 'enterway' and 'other' becomes 'otherway' . For our purposes, there are 5 vowels: a, e, i, o, u (so we count y as a consonant).</li>\n",
    "<p></p>\n",
    "Write a function pig() that takes a word (i.e., a string) as input and returns its pigLatin form. Your function should still work if the input word contains upper case characters. Your output should always be lower case however.<p></p>\n",
    "\n",
    "<p>>>> pig('happy')</p>\n",
    "<p>'appyhay'</p>\n",
    "<p>>>> pig('Enter')</p>\n",
    "<p>'enterway'</p>"
   ]
  },
  {
   "cell_type": "code",
   "execution_count": 71,
   "id": "5663dc52",
   "metadata": {},
   "outputs": [
    {
     "name": "stdout",
     "output_type": "stream",
     "text": [
      "Please write a word: pig\n",
      "igpay\n"
     ]
    }
   ],
   "source": [
    "#Question 6\n",
    "\n",
    "def pig(word):\n",
    "    vowel = ('a','e', 'i', 'o', 'u')\n",
    "    padding = \"\"\n",
    "    cons = 0\n",
    "    for x in word:\n",
    "        if x in vowel:\n",
    "            break # break if the character is vowel\n",
    "        else:\n",
    "            padding = padding + x.lower() # turn consonant into padding\n",
    "            cons = cons + 1 # allocate the position of vowel\n",
    "    \n",
    "    pig_word = word[cons:] + padding + 'ay' # substring the word from first vowel, add consonants as right padding and 'ay'\n",
    "        \n",
    "    print(pig_word)\n",
    "\n",
    "word = input(\"Please write a word: \")\n",
    "pig(word)"
   ]
  },
  {
   "cell_type": "markdown",
   "id": "7c8e9f23",
   "metadata": {},
   "source": [
    "<h4>Question 7</h4><p></p>\n",
    "File bloodtype1.txt records blood-types of patients (A, B, AB, O or OO) at a clinic. Write a function bldcount() that reads the file with name name and reports (i.e.,\n",
    "prints) how many patients there are in each bloodtype.<p></p>\n",
    "<p>>>> bldcount('bloodtype.txt')</p>\n",
    "<p>There are 10 patients of blood type A.</p>\n",
    "<p>There is one patient of blood type B.</p>\n",
    "<p>There are 10 patients of blood type AB.</p>\n",
    "<p>There are 12 patients of blood type O.</p>\n",
    "<p>There are no patients of blood type OO.</p>"
   ]
  },
  {
   "cell_type": "code",
   "execution_count": 72,
   "id": "3f5764d1",
   "metadata": {},
   "outputs": [
    {
     "name": "stdout",
     "output_type": "stream",
     "text": [
      "There are 15 patients of blood type A.\n",
      "There are 1 patients of blood type B.\n",
      "There are 13 patients of blood type AB.\n",
      "There are 15 patients of blood type O.\n",
      "There are 0 patients of blood type OO.\n"
     ]
    }
   ],
   "source": [
    "#Question 7\n",
    "\n",
    "def bldcount(path):\n",
    "    infile = open(path, 'r')\n",
    "    patient_list = infile.read().split(\" \") # split the content of the file by \" \" and turn into list\n",
    "    print('There are', patient_list.count('A'),'patients of blood type A.')\n",
    "    print('There are', patient_list.count('B'),'patients of blood type B.')\n",
    "    print('There are', patient_list.count('AB'),'patients of blood type AB.')\n",
    "    print('There are', patient_list.count('O'),'patients of blood type O.')\n",
    "    print('There are', patient_list.count('OO'),'patients of blood type OO.')\n",
    "    infile.close()\n",
    "    \n",
    "bldcount('bloodtype1.txt')"
   ]
  },
  {
   "cell_type": "markdown",
   "id": "2644aaff",
   "metadata": {},
   "source": [
    "<h4>Question 8</h4><p></p>\n",
    "<p>Write a function curconv() that takes as input:</p>\n",
    "<ol>\n",
    "    <li>a currency represented using a string (e.g., 'JPY' for the Japanese Yen or 'EUR' for the Euro)</li>\n",
    "    <li>an amount</li>\n",
    "</ol>\n",
    "<p>and then converts and returns the amount in US dollars.</p>\n",
    "<p>>>> curconv('EUR', 100)</p>\n",
    "<p>122.96544</p>\n",
    "<p>>>> curconv('JPY', 100)</p>\n",
    "<p>1.241401</p>\n",
    "<p>The currency rates you will need are stored in file currencies.txt:</p>\n",
    "<p>AUD 1.0345157  Australian Dollar</p>\n",
    "<p>CHF 1.0237414  Swiss Franc</p>\n",
    "<p>CNY 0.1550176  Chinese Yuan</p>\n",
    "<p>DKK 0.1651442  Danish Krone</p>\n",
    "<p>EUR 1.2296544  Euro</p>\n",
    "<p>GBP 1.5550989  British Pound</p>\n",
    "<p>HKD 0.1270207  Hong Kong Dollar</p>\n",
    "<p>INR 0.0177643  Indian Rupee</p>\n",
    "<p>JPY 0.01241401 Japanese Yen</p>\n",
    "<p>MXN 0.0751848  Mexican Peso</p>\n",
    "<p>MYR 0.3145411  Malaysian Ringgit</p>\n",
    "<p>NOK 0.1677063  Norwegian Krone</p>\n",
    "<p>NZD 0.8003591  New Zealand Dollar</p>\n",
    "<p>PHP 0.0233234  Philippine Peso</p>\n",
    "<p>SEK 0.148269   Swedish Krona</p>\n",
    "<p>SGD 0.788871   Singapore Dollar</p>\n",
    "<p>THB 0.0313789  Thai Baht</p>"
   ]
  },
  {
   "cell_type": "code",
   "execution_count": 115,
   "id": "87c3fd00",
   "metadata": {},
   "outputs": [
    {
     "name": "stdout",
     "output_type": "stream",
     "text": [
      "Choose type of currency: abc\n",
      "Choose amount of money: 100\n",
      "Please enter correct type of currency!\n"
     ]
    }
   ],
   "source": [
    "#Question 8: Using Numpy Array\n",
    "# using source: https://stackoverflow.com/questions/22995068/convert-a-text-file-to-a-numpy-array\n",
    "def curconv(money, value):\n",
    "    import numpy as np\n",
    "    currency = np.loadtxt('currencies.txt', usecols=(0), dtype=str) # convert first column of text file into currency array\n",
    "    exchange = np.loadtxt('currencies.txt', usecols=(1)) # convert second column of text file into exchange array\n",
    "    try:\n",
    "        exchange_rate = exchange[np.where(currency == money)] # exchange_rate from exchange has same row number of money in currency\n",
    "        float_rate = float(exchange_rate)\n",
    "        exchange_value = float(int(value) * exchange_rate)\n",
    "        print(exchange_value)\n",
    "    except:\n",
    "        print('Please enter correct type of currency!')\n",
    "    infile.close()\n",
    "\n",
    "money = input('Choose type of currency: ')\n",
    "value = input('Choose amount of money: ')\n",
    "try:\n",
    "    int_value = int(value)\n",
    "    curconv(money, value)\n",
    "except:\n",
    "    print('Please enter amount of money usding digit 0-9!')"
   ]
  },
  {
   "cell_type": "code",
   "execution_count": 112,
   "id": "ecf130b1",
   "metadata": {},
   "outputs": [
    {
     "name": "stdout",
     "output_type": "stream",
     "text": [
      "Choose type of currency: JPY\n",
      "Choose amount of money: 100\n",
      "1.241401\n"
     ]
    }
   ],
   "source": [
    "#Quetion 8: Using Class\n",
    "def curconv(money, value):\n",
    "    class Curriencies:\n",
    "        def __init__(self, abbr, rate, curr):\n",
    "            self.abbr = abbr\n",
    "            self.rate = rate\n",
    "            self.curr = curr\n",
    "    infile = open('currencies.txt', 'r')\n",
    "    currency = infile.readlines()  \n",
    "    tables = []\n",
    "    for z in currency:\n",
    "        line = z.split('\\t')\n",
    "        table = Curriencies(line[0], line[1], line[2])\n",
    "        tables.append(table)\n",
    "    for table in tables:\n",
    "        if money == table.abbr:\n",
    "            exchange_rate = int(value) * float(table.rate)\n",
    "    try:\n",
    "        print(exchange_rate)\n",
    "    except:\n",
    "        print('Please enter correct type of currency!')\n",
    "            \n",
    "money = input('Choose type of currency: ')\n",
    "value = input('Choose amount of money: ')\n",
    "try:\n",
    "    int_value = int(value)\n",
    "    curconv(money, value)\n",
    "except:\n",
    "    print('Please enter amount of money usding digit 0-9!')"
   ]
  },
  {
   "cell_type": "markdown",
   "id": "bb46f872",
   "metadata": {},
   "source": [
    "<h4>Question 9</h4>\n",
    " \n",
    "Each of the following will cause an exception (an error). Identify what type of exception each will cause.\n",
    "\n",
    "Trying to add incompatible variables, as in adding 6 + ‘a’\n",
    "\n",
    "Referring to the 12th item of a list that has only 10 items\n",
    "\n",
    "Using a value that is out of range for a function’s input, such as calling math.sqrt(-1.0)\n",
    "\n",
    "Using an undeclared variable, such as print(x) when x has not been defined\n",
    "\n",
    "Trying to open a file that does not exist, such as mistyping the file name or looking in the wrong directory.\n",
    "\n",
    "List of exceptions:\n",
    "\n",
    "a. Example: \n",
    "print(6 + 'a') \n",
    "Error: unsupported operand type(s) for +: 'int' and 'str' \n",
    "-> Python does not allow 'int' pluses 'str' and vice versa\n",
    "\n",
    "b. Example:\n",
    "list = [0, 1, 2, 3, 4, 5, 6, 7, 8, 9]\n",
    "print(list[11]) \n",
    "Error: list index out of range\n",
    "-> Python cannot present the item out of index\n",
    "\n",
    "c. Example:\n",
    "import math\n",
    "print(math.sqrt(-4)) \n",
    "\n",
    "Error: math domain error\n",
    "-> Python does not allow return square root of -4.\n",
    "However, if I use (-4) ** (1/2) or pow(-4,1/2) the result is (1.2246467991473532e-16+2j)\n",
    "\n",
    "Another example:\n",
    "print(1 / 0) \n",
    "\n",
    "Error: division by zero\n",
    "-> Python does not allow an int to be divided by zero.\n",
    "\n",
    "#d. Example: \n",
    "print(Long) \n",
    "\n",
    "Error: naame 'Long' is not defined\n",
    "-> Python can not present a nonexist variable\n",
    "\n",
    "#e. Example:\n",
    "infile = open('bloodtype.txt') \n",
    "\n",
    "Error: [Errno 2] No such file or directory: 'bloodtype.txt'\n",
    "-> The name of the file is wrong. Therefore Python can not open."
   ]
  },
  {
   "cell_type": "markdown",
   "id": "6b70a8ce",
   "metadata": {},
   "source": [
    "<h4>Question 10</h4><p></p>\n",
    "Encryption is the process of hiding the meaning of a text by substituting letters in the message with other letters, according to some system. If the process is successful, no one but the intended recipient can understand the encrypted message. Cryptanalysis refers to attempts to undo the encryption, even if some details of the encryption are unknown (for example, if an encrypted message has been intercepted). The first step of cryptanalysis is often to build up a table of letter frequencies in the encrypted text. Assume that the string letters is already defined as 'abcdefghijklmnopqrstuvwxyz'. Write a function called frequencies() that takes a string as its only parameter, and returns a list of integers, showing the number of times each character appears in the text. Your function may ignore any characters that are not in letters.<p></p>\n",
    "<p>>>> frequencies('The quick red fox got bored and went home.')</p>\n",
    "<p>[1, 1, 1, 3, 5, 1, 1, 2, 1, 0, 1, 0, 1, 2, 4, 0, 1, 2, 0, 2,1, 0, 1, 1, 0, 0]</p>\n",
    "<p>>>> frequencies('apple')</p>"
   ]
  },
  {
   "cell_type": "code",
   "execution_count": 117,
   "id": "31860640",
   "metadata": {},
   "outputs": [
    {
     "name": "stdout",
     "output_type": "stream",
     "text": [
      "Please enter your string: Apple of my eyes.\n",
      "[0, 0, 0, 0, 3, 1, 0, 0, 0, 0, 0, 1, 1, 0, 1, 2, 0, 0, 1, 0, 0, 0, 0, 0, 2, 0]\n"
     ]
    }
   ],
   "source": [
    "#Question 10\n",
    "def frequencies(string):\n",
    "    letters = 'abcdefghijklmnopqrstuvwxyz'\n",
    "    list = []\n",
    "    for x in letters:\n",
    "        num = 0\n",
    "        for y in string:\n",
    "            if (x == y):\n",
    "                num = num + 1\n",
    "        list.append(num)\n",
    "    print(list)\n",
    "    \n",
    "string = input(\"Please enter your string: \")\n",
    "frequencies(string)"
   ]
  }
 ],
 "metadata": {
  "kernelspec": {
   "display_name": "Python 3 (ipykernel)",
   "language": "python",
   "name": "python3"
  },
  "language_info": {
   "codemirror_mode": {
    "name": "ipython",
    "version": 3
   },
   "file_extension": ".py",
   "mimetype": "text/x-python",
   "name": "python",
   "nbconvert_exporter": "python",
   "pygments_lexer": "ipython3",
   "version": "3.9.12"
  }
 },
 "nbformat": 4,
 "nbformat_minor": 5
}
